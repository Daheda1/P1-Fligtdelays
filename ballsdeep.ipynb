{
 "cells": [
  {
   "cell_type": "code",
   "execution_count": null,
   "metadata": {},
   "outputs": [],
   "source": [
    "import pandas as pd\n",
    "from sklearn.preprocessing import LabelEncoder, OneHotEncoder\n",
    "from sklearn.compose import ColumnTransformer\n",
    "from sklearn.pipeline import Pipeline\n",
    "from scikeras.wrappers import KerasClassifier\n",
    "from keras.models import Sequential\n",
    "from keras.layers import Dense"
   ]
  },
  {
   "cell_type": "code",
   "execution_count": null,
   "metadata": {},
   "outputs": [],
   "source": [
    "# Indlæser data\n",
    "df = pd.read_csv('Combined_Flights_2022.csv')\n"
   ]
  },
  {
   "cell_type": "code",
   "execution_count": null,
   "metadata": {},
   "outputs": [],
   "source": [
    "# Definerer funktionen til at oprette 'DelayLabel'\n",
    "def label_delay(delay):\n",
    "    if delay <= 15:\n",
    "        return 'on-time'\n",
    "    elif delay <= 45:\n",
    "        return 'late'\n",
    "    else:\n",
    "        return 'very-late'"
   ]
  },
  {
   "cell_type": "code",
   "execution_count": null,
   "metadata": {},
   "outputs": [],
   "source": [
    "# Anvender funktionen til at oprette 'DelayLabel'\n",
    "df['DelayLabel'] = df['DepDelayMinutes'].apply(label_delay)"
   ]
  },
  {
   "cell_type": "code",
   "execution_count": null,
   "metadata": {},
   "outputs": [],
   "source": [
    "# Definerer de relevante kolonner\n",
    "relevant_columns = ['Airline', 'Origin', 'Dest', 'DepTime', 'ArrTime', 'Distance', 'DayOfWeek', 'DayofMonth', 'Quarter']"
   ]
  },
  {
   "cell_type": "code",
   "execution_count": null,
   "metadata": {},
   "outputs": [],
   "source": [
    "# Fjerner rækker med NaN-værdier fra df\n",
    "df = df.dropna(subset=relevant_columns + ['DepDelayMinutes'])"
   ]
  },
  {
   "cell_type": "code",
   "execution_count": null,
   "metadata": {},
   "outputs": [],
   "source": [
    "# Kategoriske kolonner der skal encodes\n",
    "categorical_columns = ['Airline', 'Origin', 'Dest']\n",
    "# Numeriske kolonner\n",
    "numerical_columns = [col for col in relevant_columns if col not in categorical_columns]\n",
    "\n",
    "# Del data op i features og labels\n",
    "X = df[relevant_columns]\n",
    "y = df['DelayLabel']\n",
    "\n",
    "# Encoder kategoriske variabler\n",
    "ct = ColumnTransformer(\n",
    "    [('one_hot_encoder', OneHotEncoder(), categorical_columns)],\n",
    "    remainder='passthrough'\n",
    ")\n",
    "\n",
    "# Anvend one-hot encoding til features og labels\n",
    "X_encoded = ct.fit_transform(X)\n",
    "y_encoded = pd.get_dummies(y)"
   ]
  },
  {
   "cell_type": "code",
   "execution_count": null,
   "metadata": {},
   "outputs": [],
   "source": [
    "# Definerer Keras model\n",
    "def create_model(input_dim):\n",
    "    model = Sequential()\n",
    "    model.add(Dense(12, input_dim=input_dim, activation='relu'))\n",
    "    model.add(Dense(8, activation='relu'))\n",
    "    model.add(Dense(y_encoded.shape[1], activation='softmax'))  # Antallet af output-neuroner svarer til antallet af klasser\n",
    "    model.compile(loss='categorical_crossentropy', optimizer='adam', metrics=['accuracy'])\n",
    "    return model\n",
    "\n",
    "# Input_dim beregnes som længden af det transformeret feature space\n",
    "input_dim = X_encoded.shape[1]\n"
   ]
  },
  {
   "cell_type": "code",
   "execution_count": null,
   "metadata": {},
   "outputs": [],
   "source": [
    "# Indpakker Keras model som en estimator\n",
    "keras_classifier = KerasClassifier(build_fn=lambda:create_model(input_dim), epochs=3, batch_size=10, verbose=1)\n",
    "\n",
    "# Træn modellen\n",
    "keras_classifier.fit(X_encoded, y_encoded)\n",
    "\n",
    "# Gemmer hele den underliggende Keras-model til en enkelt HDF5-fil\n",
    "keras_classifier.model.save('min_model.h5')"
   ]
  }
 ],
 "metadata": {
  "kernelspec": {
   "display_name": "flightdata",
   "language": "python",
   "name": "python3"
  },
  "language_info": {
   "codemirror_mode": {
    "name": "ipython",
    "version": 3
   },
   "file_extension": ".py",
   "mimetype": "text/x-python",
   "name": "python",
   "nbconvert_exporter": "python",
   "pygments_lexer": "ipython3",
   "version": "3.11.2"
  },
  "orig_nbformat": 4
 },
 "nbformat": 4,
 "nbformat_minor": 2
}
