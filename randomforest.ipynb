{
 "cells": [
  {
   "cell_type": "code",
   "execution_count": 1,
   "metadata": {
    "ExecuteTime": {
     "end_time": "2023-11-13T12:10:14.756139500Z",
     "start_time": "2023-11-13T12:10:14.717851300Z"
    }
   },
   "outputs": [],
   "source": [
    "import pandas as pd\n",
    "import numpy as np\n",
    "from sklearn.utils import resample\n",
    "import matplotlib.pyplot as plt\n",
    "from sklearn.feature_extraction import FeatureHasher\n",
    "from sklearn.model_selection import train_test_split, cross_val_score\n",
    "from sklearn.ensemble import RandomForestClassifier\n",
    "from sklearn.tree import DecisionTreeClassifier\n",
    "from sklearn.linear_model import LogisticRegression\n",
    "from sklearn.metrics import (\n",
    "    accuracy_score, confusion_matrix, \n",
    "    precision_score, recall_score, \n",
    "    roc_curve, auc\n",
    ")\n",
    "from sklearn.preprocessing import StandardScaler\n",
    "from sklearn.tree import DecisionTreeRegressor\n",
    "import warnings\n",
    "from imblearn.over_sampling import SMOTE\n",
    "warnings.filterwarnings(\"ignore\", category=FutureWarning)"
   ]
  },
  {
   "cell_type": "code",
   "execution_count": 2,
   "metadata": {
    "ExecuteTime": {
     "end_time": "2023-11-13T12:10:14.791655Z",
     "start_time": "2023-11-13T12:10:14.731850300Z"
    }
   },
   "outputs": [],
   "source": [
    "#Denne funktion bestemmer hvilket label \"DelayLabel\" ender på basseret på forsinkelsen \n",
    "def label_delay(delay):\n",
    "    if delay <= 15:\n",
    "        return 'on-time'\n",
    "    elif delay <= 45:\n",
    "        return 'late'\n",
    "    else:\n",
    "        return 'very-late'"
   ]
  },
  {
   "cell_type": "code",
   "execution_count": 3,
   "metadata": {
    "ExecuteTime": {
     "end_time": "2023-11-13T12:10:15.400710600Z",
     "start_time": "2023-11-13T12:10:14.746653300Z"
    }
   },
   "outputs": [],
   "source": [
    "#Henter vores datasæt og laver det til pandas dataframe\n",
    "df = pd.read_csv('Combined_Flights_2022.csv', nrows = 1000000)"
   ]
  },
  {
   "cell_type": "code",
   "execution_count": 4,
   "metadata": {
    "ExecuteTime": {
     "end_time": "2023-11-13T12:10:15.435653500Z",
     "start_time": "2023-11-13T12:10:15.402779700Z"
    }
   },
   "outputs": [],
   "source": [
    "#DelayLabel bliver tilføjet og apply bruger funktionen label_delay på hele rækken\n",
    "df['DelayLabel'] = df['ArrDelayMinutes'].apply(label_delay)"
   ]
  },
  {
   "cell_type": "code",
   "execution_count": 5,
   "metadata": {
    "ExecuteTime": {
     "end_time": "2023-11-13T12:10:15.466129300Z",
     "start_time": "2023-11-13T12:10:15.435653500Z"
    }
   },
   "outputs": [],
   "source": [
    "#Definere de kolonner vi gerne vil træne på\n",
    "relevant_columns = ['Airline', 'Origin', 'Dest',\n",
    "                    'DepTime', 'ArrTime', 'DelayLabel', \n",
    "                    'Distance', 'DayOfWeek', 'DayofMonth', 'Quarter']\n",
    "\n",
    "#Beholder kun de data vi vil træne på\n",
    "df = df[relevant_columns]"
   ]
  },
  {
   "cell_type": "code",
   "execution_count": 6,
   "metadata": {},
   "outputs": [
    {
     "name": "stdout",
     "output_type": "stream",
     "text": [
      "Fjernet 31742 rækker.\n"
     ]
    }
   ],
   "source": [
    "# fjerner alle rækker med tomme felter\n",
    "rows_before = len(df)\n",
    "df.dropna(inplace=True)\n",
    "rows_after = len(df)\n",
    "rows_removed = rows_before - rows_after\n",
    "print(f\"Fjernet {rows_removed} rækker.\")"
   ]
  },
  {
   "cell_type": "code",
   "execution_count": 7,
   "metadata": {
    "ExecuteTime": {
     "end_time": "2023-11-13T12:10:15.620120500Z",
     "start_time": "2023-11-13T12:10:15.466129300Z"
    }
   },
   "outputs": [],
   "source": [
    "#One-hot encoder vores koloner\n",
    "df = pd.get_dummies(df, columns=['Airline', 'Origin', 'Dest'], dtype=int, sparse=True)"
   ]
  },
  {
   "cell_type": "code",
   "execution_count": 8,
   "metadata": {
    "ExecuteTime": {
     "end_time": "2023-11-13T12:10:15.653650600Z",
     "start_time": "2023-11-13T12:10:15.620120500Z"
    }
   },
   "outputs": [],
   "source": [
    "#skalere vores koloner\n",
    "scaler = StandardScaler()\n",
    "columns_to_normalize = [\"DepTime\", \"ArrTime\", 'Distance']\n",
    "df[columns_to_normalize] = scaler.fit_transform(df[columns_to_normalize])"
   ]
  },
  {
   "cell_type": "code",
   "execution_count": 9,
   "metadata": {
    "ExecuteTime": {
     "end_time": "2023-11-13T12:10:15.790125600Z",
     "start_time": "2023-11-13T12:10:15.746182800Z"
    }
   },
   "outputs": [],
   "source": [
    "#fjerne DelayLabel fra df og gemmer dem som label\n",
    "label = df.pop(\"DelayLabel\")"
   ]
  },
  {
   "cell_type": "code",
   "execution_count": 10,
   "metadata": {
    "ExecuteTime": {
     "end_time": "2023-11-13T12:10:15.931577400Z",
     "start_time": "2023-11-13T12:10:15.761438500Z"
    }
   },
   "outputs": [],
   "source": [
    "#Laver et 80/20 split på vores data og labels\n",
    "train_x, test_x, train_y, test_y = train_test_split(df, label, stratify=label, test_size=0.20, random_state=1)"
   ]
  },
  {
   "cell_type": "code",
   "execution_count": 11,
   "metadata": {},
   "outputs": [
    {
     "data": {
      "text/plain": [
       "DelayLabel\n",
       "on-time      615796\n",
       "late          85806\n",
       "very-late     73004\n",
       "Name: count, dtype: int64"
      ]
     },
     "execution_count": 11,
     "metadata": {},
     "output_type": "execute_result"
    }
   ],
   "source": [
    "train_y.value_counts()"
   ]
  },
  {
   "cell_type": "code",
   "execution_count": 12,
   "metadata": {},
   "outputs": [
    {
     "name": "stderr",
     "output_type": "stream",
     "text": [
      "/Library/Frameworks/Python.framework/Versions/3.11/lib/python3.11/site-packages/sklearn/utils/validation.py:787: UserWarning: pandas.DataFrame with sparse columns found.It will be converted to a dense numpy array.\n",
      "  warnings.warn(\n"
     ]
    }
   ],
   "source": [
    "# SMOTE initialisering\n",
    "smote = SMOTE(random_state=1)\n",
    "\n",
    "# Brug SMOTE til at over-sample de underrepræsenterede klasser i træningssættet\n",
    "balanced_train_x, balanced_train_y = smote.fit_resample(train_x, train_y)"
   ]
  },
  {
   "cell_type": "code",
   "execution_count": 13,
   "metadata": {},
   "outputs": [
    {
     "data": {
      "text/plain": [
       "DelayLabel\n",
       "on-time      615796\n",
       "very-late    615796\n",
       "late         615796\n",
       "Name: count, dtype: int64"
      ]
     },
     "execution_count": 13,
     "metadata": {},
     "output_type": "execute_result"
    }
   ],
   "source": [
    "balanced_train_y.value_counts()"
   ]
  },
  {
   "cell_type": "code",
   "execution_count": 14,
   "metadata": {
    "ExecuteTime": {
     "end_time": "2023-11-13T13:16:14.459670100Z",
     "start_time": "2023-11-13T13:10:53.107753100Z"
    }
   },
   "outputs": [
    {
     "name": "stderr",
     "output_type": "stream",
     "text": [
      "/Library/Frameworks/Python.framework/Versions/3.11/lib/python3.11/site-packages/sklearn/utils/validation.py:787: UserWarning: pandas.DataFrame with sparse columns found.It will be converted to a dense numpy array.\n",
      "  warnings.warn(\n"
     ]
    }
   ],
   "source": [
    "#definere og fitter vores model\n",
    "dtc = RandomForestClassifier()\n",
    "model = dtc.fit(balanced_train_x, balanced_train_y)\n"
   ]
  },
  {
   "cell_type": "code",
   "execution_count": null,
   "metadata": {},
   "outputs": [],
   "source": [
    "#cross_val = cross_val_score(dtc, train_x, train_y, cv=10, scoring=\"f1_micro\")\n",
    "#cross_val"
   ]
  },
  {
   "cell_type": "code",
   "execution_count": null,
   "metadata": {
    "ExecuteTime": {
     "end_time": "2023-11-13T12:11:59.758221Z",
     "start_time": "2023-11-13T12:11:58.933219400Z"
    }
   },
   "outputs": [],
   "source": [
    "#forudsiger labels på vores test sæt\n",
    "predicted_values = dtc.predict(test_x)"
   ]
  },
  {
   "cell_type": "code",
   "execution_count": null,
   "metadata": {
    "ExecuteTime": {
     "end_time": "2023-11-13T12:11:59.929952800Z",
     "start_time": "2023-11-13T12:11:59.757223500Z"
    }
   },
   "outputs": [],
   "source": [
    "#sammenligner vores test resultater og vores predicted_values\n",
    "acc = accuracy_score(test_y, predicted_values)\n",
    "conf_matrix = confusion_matrix(test_y, predicted_values)\n",
    "prec = precision_score(test_y, predicted_values, average='weighted')\n",
    "rec = recall_score(test_y, predicted_values, average='weighted')"
   ]
  },
  {
   "cell_type": "code",
   "execution_count": null,
   "metadata": {
    "ExecuteTime": {
     "end_time": "2023-11-13T12:12:00.678770600Z",
     "start_time": "2023-11-13T12:11:59.929952800Z"
    }
   },
   "outputs": [],
   "source": [
    "# Forudsige sandsynligheder for test-sættet\n",
    "predicted_probabilities = dtc.predict_proba(test_x)\n",
    "\n",
    "# Udskrive de forudsagte sandsynligheder for de første 5 test-eksempler\n",
    "print(predicted_probabilities[:5])"
   ]
  },
  {
   "cell_type": "code",
   "execution_count": null,
   "metadata": {
    "ExecuteTime": {
     "end_time": "2023-11-13T12:12:00.722334600Z",
     "start_time": "2023-11-13T12:12:00.677772200Z"
    }
   },
   "outputs": [],
   "source": [
    "print(f\"Accuracy: {acc}\")\n",
    "print(f\"Precision: {prec}\")\n",
    "print(f\"Recall: {rec}\")\n",
    "\n",
    "classes = model.classes_\n",
    "print(\"Confusion Matrix:\")\n",
    "print(f\"Labels: {classes}\")\n",
    "print(conf_matrix)"
   ]
  },
  {
   "cell_type": "code",
   "execution_count": null,
   "metadata": {},
   "outputs": [],
   "source": [
    "def print_sorted_feature_importance_and_low_values(model, train_x, threshold=0.005):\n",
    "    # Henter feature importance fra modellen og par dem med kolonnenavne\n",
    "    feature_importances = model.feature_importances_\n",
    "    features = list(train_x.columns)\n",
    "    feature_importance_with_columns = zip(features, feature_importances)\n",
    "    \n",
    "    # Sorterer features baseret på importance\n",
    "    sorted_feature_importances = sorted(feature_importance_with_columns, key=lambda x: x[1], reverse=True)\n",
    "    \n",
    "    # Printer den sorterede liste af feature importance\n",
    "    print(\"Feature importance sorteret fra høj til lav:\")\n",
    "    for feature, importance in sorted_feature_importances:\n",
    "        print(f\"{feature}: {importance}\")\n",
    "\n",
    "    # Finder og printer features med en importance-værdi under tærsklen\n",
    "    print(f\"\\nFeatures med en importance-værdi under {threshold}:\")\n",
    "    low_value_features = [feature for feature, importance in sorted_feature_importances if importance < threshold]\n",
    "    \n",
    "    for feature in low_value_features:\n",
    "        print(feature)\n",
    "\n",
    "    print(len(low_value_features))\n",
    "\n",
    "\n",
    "# Efter din model er trænet, kald denne funktion med din model og træningsdata\n",
    "print_sorted_feature_importance_and_low_values(model, train_x)\n"
   ]
  }
 ],
 "metadata": {
  "kernelspec": {
   "display_name": "Python 3",
   "language": "python",
   "name": "python3"
  },
  "language_info": {
   "codemirror_mode": {
    "name": "ipython",
    "version": 3
   },
   "file_extension": ".py",
   "mimetype": "text/x-python",
   "name": "python",
   "nbconvert_exporter": "python",
   "pygments_lexer": "ipython3",
   "version": "3.11.2"
  }
 },
 "nbformat": 4,
 "nbformat_minor": 2
}
