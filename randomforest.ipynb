{
 "cells": [
  {
   "cell_type": "code",
   "execution_count": 7,
   "metadata": {},
   "outputs": [],
   "source": [
    "import pandas as pd\n",
    "import numpy as np\n",
    "import matplotlib.pyplot as plt\n",
    "from sklearn.feature_extraction import FeatureHasher\n",
    "from sklearn.model_selection import train_test_split\n",
    "from sklearn.ensemble import RandomForestClassifier\n",
    "from sklearn.tree import DecisionTreeClassifier\n",
    "from sklearn.linear_model import LogisticRegression\n",
    "from sklearn.metrics import (\n",
    "    accuracy_score, confusion_matrix, \n",
    "    precision_score, recall_score, \n",
    "    roc_curve, auc\n",
    ")\n",
    "from sklearn.preprocessing import StandardScaler\n",
    "import warnings\n",
    "warnings.filterwarnings(\"ignore\", category=FutureWarning)"
   ]
  },
  {
   "cell_type": "code",
   "execution_count": 8,
   "metadata": {},
   "outputs": [],
   "source": [
    "#Denne funktion bestemmer hvilket label \"DelayLabel\" ender på basseret på forsinkelsen \n",
    "def label_delay(delay):\n",
    "    if delay <= 15:\n",
    "        return 'on-time'\n",
    "    elif delay <= 120:\n",
    "        return 'late'\n",
    "    else:\n",
    "        return 'very-late'"
   ]
  },
  {
   "cell_type": "code",
   "execution_count": 9,
   "metadata": {},
   "outputs": [],
   "source": [
    "#Henter vores datasæt og laver det til pandas dataframe\n",
    "df = pd.read_csv('Combined_Flights_2022.csv', nrows = 900000)"
   ]
  },
  {
   "cell_type": "code",
   "execution_count": 10,
   "metadata": {},
   "outputs": [],
   "source": [
    "#DelayLabel bliver tilføjet og apply bruger funktionen label_delay på hele rækken\n",
    "df['DelayLabel'] = df['ArrDelayMinutes'].apply(label_delay)"
   ]
  },
  {
   "cell_type": "code",
   "execution_count": 11,
   "metadata": {},
   "outputs": [],
   "source": [
    "#Definere de kolonner vi gerne vil træne på\n",
    "relevant_columns = ['Airline', 'Origin', 'Dest', \n",
    "                    'DepTime', 'ArrTime', 'DelayLabel', \n",
    "                    'Distance', 'DayOfWeek', 'DayofMonth', 'Quarter']\n",
    "\n",
    "#Beholder kun de data vi vil træne på\n",
    "df = df[relevant_columns]"
   ]
  },
  {
   "cell_type": "code",
   "execution_count": 12,
   "metadata": {},
   "outputs": [],
   "source": [
    "#One-hot encoder vores koloner\n",
    "df = pd.get_dummies(df, columns=['Airline', 'Origin', 'Dest'], dtype=int)"
   ]
  },
  {
   "cell_type": "code",
   "execution_count": 13,
   "metadata": {},
   "outputs": [],
   "source": [
    "#skalere vores koloner\n",
    "scaler = StandardScaler()\n",
    "columns_to_normalize = [\"DepTime\", \"ArrTime\", 'Distance']\n",
    "df[columns_to_normalize] = scaler.fit_transform(df[columns_to_normalize])"
   ]
  },
  {
   "cell_type": "code",
   "execution_count": 14,
   "metadata": {},
   "outputs": [
    {
     "name": "stdout",
     "output_type": "stream",
     "text": [
      "Fjernet 27717 rækker.\n"
     ]
    }
   ],
   "source": [
    "# fjerner alle rækker med tomme felter\n",
    "rows_before = len(df)\n",
    "df.dropna(inplace=True)\n",
    "rows_after = len(df)\n",
    "rows_removed = rows_before - rows_after\n",
    "print(f\"Fjernet {rows_removed} rækker.\")"
   ]
  },
  {
   "cell_type": "code",
   "execution_count": 15,
   "metadata": {},
   "outputs": [],
   "source": [
    "#fjerne DelayLabel fra df og gemmer dem som label\n",
    "label = df.pop(\"DelayLabel\")"
   ]
  },
  {
   "cell_type": "code",
   "execution_count": 16,
   "metadata": {},
   "outputs": [],
   "source": [
    "#Laver et 80/20 split på vores data og labels\n",
    "train_x, test_x, train_y, test_y = train_test_split(df, label, stratify=label, test_size=0.20, random_state=1)"
   ]
  },
  {
   "cell_type": "code",
   "execution_count": 17,
   "metadata": {},
   "outputs": [],
   "source": [
    "#definere og fitter vores model\n",
    "dtc = RandomForestClassifier()\n",
    "model = dtc.fit(train_x, train_y)\n"
   ]
  },
  {
   "cell_type": "code",
   "execution_count": 18,
   "metadata": {},
   "outputs": [],
   "source": [
    "#forudsiger labels på vores test sæt\n",
    "predicted_values = dtc.predict(test_x)"
   ]
  },
  {
   "cell_type": "code",
   "execution_count": 19,
   "metadata": {},
   "outputs": [],
   "source": [
    "#sammenligner vores test resultater og vores predicted_values\n",
    "acc = accuracy_score(test_y, predicted_values)\n",
    "conf_matrix = confusion_matrix(test_y, predicted_values)\n",
    "prec = precision_score(test_y, predicted_values, average='weighted')\n",
    "rec = recall_score(test_y, predicted_values, average='weighted')"
   ]
  },
  {
   "cell_type": "code",
   "execution_count": 20,
   "metadata": {},
   "outputs": [
    {
     "name": "stdout",
     "output_type": "stream",
     "text": [
      "[[0.15 0.83 0.02]\n",
      " [0.02 0.98 0.  ]\n",
      " [0.06 0.94 0.  ]\n",
      " [0.1  0.9  0.  ]\n",
      " [0.16 0.79 0.05]]\n"
     ]
    }
   ],
   "source": [
    "# Forudsige sandsynligheder for test-sættet\n",
    "predicted_probabilities = dtc.predict_proba(test_x)\n",
    "\n",
    "# Udskrive de forudsagte sandsynligheder for de første 5 test-eksempler\n",
    "print(predicted_probabilities[:5])"
   ]
  },
  {
   "cell_type": "code",
   "execution_count": 21,
   "metadata": {},
   "outputs": [
    {
     "name": "stdout",
     "output_type": "stream",
     "text": [
      "Accuracy: 0.841210154937893\n",
      "Precision: 0.8221844016589938\n",
      "Recall: 0.841210154937893\n",
      "Confusion Matrix:\n",
      "Labels: ['late' 'on-time' 'very-late']\n",
      "[[  9338  20785    279]\n",
      " [  2286 136698     90]\n",
      " [  1641   2621    719]]\n"
     ]
    }
   ],
   "source": [
    "print(f\"Accuracy: {acc}\")\n",
    "print(f\"Precision: {prec}\")\n",
    "print(f\"Recall: {rec}\")\n",
    "\n",
    "classes = model.classes_\n",
    "print(\"Confusion Matrix:\")\n",
    "print(f\"Labels: {classes}\")\n",
    "print(conf_matrix)"
   ]
  }
 ],
 "metadata": {
  "kernelspec": {
   "display_name": "Python 3",
   "language": "python",
   "name": "python3"
  },
  "language_info": {
   "codemirror_mode": {
    "name": "ipython",
    "version": 3
   },
   "file_extension": ".py",
   "mimetype": "text/x-python",
   "name": "python",
   "nbconvert_exporter": "python",
   "pygments_lexer": "ipython3",
   "version": "3.11.5"
  }
 },
 "nbformat": 4,
 "nbformat_minor": 2
}
