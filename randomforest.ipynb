{
 "cells": [
  {
   "cell_type": "code",
   "execution_count": 17,
   "metadata": {
    "ExecuteTime": {
     "end_time": "2023-11-13T12:10:14.756139500Z",
     "start_time": "2023-11-13T12:10:14.717851300Z"
    }
   },
   "outputs": [],
   "source": [
    "import pandas as pd\n",
    "import numpy as np\n",
    "import matplotlib.pyplot as plt\n",
    "from sklearn.feature_extraction import FeatureHasher\n",
    "from sklearn.model_selection import train_test_split, cross_val_score\n",
    "from sklearn.ensemble import RandomForestClassifier\n",
    "from sklearn.tree import DecisionTreeClassifier\n",
    "from sklearn.linear_model import LogisticRegression\n",
    "from sklearn.metrics import (\n",
    "    accuracy_score, confusion_matrix, \n",
    "    precision_score, recall_score, \n",
    "    roc_curve, auc\n",
    ")\n",
    "from sklearn.preprocessing import StandardScaler\n",
    "from sklearn.tree import DecisionTreeRegressor\n",
    "import warnings\n",
    "warnings.filterwarnings(\"ignore\", category=FutureWarning)"
   ]
  },
  {
   "cell_type": "code",
   "execution_count": 18,
   "metadata": {
    "ExecuteTime": {
     "end_time": "2023-11-13T12:10:14.791655Z",
     "start_time": "2023-11-13T12:10:14.731850300Z"
    }
   },
   "outputs": [],
   "source": [
    "#Denne funktion bestemmer hvilket label \"DelayLabel\" ender på basseret på forsinkelsen \n",
    "def label_delay(delay):\n",
    "    if delay <= 15:\n",
    "        return 'on-time'\n",
    "    elif delay <= 120:\n",
    "        return 'late'\n",
    "    else:\n",
    "        return 'very-late'"
   ]
  },
  {
   "cell_type": "code",
   "execution_count": 19,
   "metadata": {
    "ExecuteTime": {
     "end_time": "2023-11-13T12:10:15.400710600Z",
     "start_time": "2023-11-13T12:10:14.746653300Z"
    }
   },
   "outputs": [],
   "source": [
    "#Henter vores datasæt og laver det til pandas dataframe\n",
    "df = pd.read_csv('Combined_Flights_2022.csv', nrows = 90000)"
   ]
  },
  {
   "cell_type": "code",
   "execution_count": 20,
   "metadata": {
    "ExecuteTime": {
     "end_time": "2023-11-13T12:10:15.435653500Z",
     "start_time": "2023-11-13T12:10:15.402779700Z"
    }
   },
   "outputs": [],
   "source": [
    "#DelayLabel bliver tilføjet og apply bruger funktionen label_delay på hele rækken\n",
    "df['DelayLabel'] = df['ArrDelayMinutes'].apply(label_delay)"
   ]
  },
  {
   "cell_type": "code",
   "execution_count": 21,
   "metadata": {
    "ExecuteTime": {
     "end_time": "2023-11-13T12:10:15.466129300Z",
     "start_time": "2023-11-13T12:10:15.435653500Z"
    }
   },
   "outputs": [],
   "source": [
    "#Definere de kolonner vi gerne vil træne på\n",
    "relevant_columns = ['Airline', 'Origin', 'Dest', \n",
    "                    'DepTime', 'ArrTime', 'DelayLabel', \n",
    "                    'Distance', 'DayOfWeek', 'DayofMonth', 'Quarter']\n",
    "\n",
    "#Beholder kun de data vi vil træne på\n",
    "df = df[relevant_columns]"
   ]
  },
  {
   "cell_type": "code",
   "execution_count": 22,
   "metadata": {
    "ExecuteTime": {
     "end_time": "2023-11-13T12:10:15.620120500Z",
     "start_time": "2023-11-13T12:10:15.466129300Z"
    }
   },
   "outputs": [],
   "source": [
    "#One-hot encoder vores koloner\n",
    "df = pd.get_dummies(df, columns=['Airline', 'Origin', 'Dest'], dtype=int)"
   ]
  },
  {
   "cell_type": "code",
   "execution_count": 23,
   "metadata": {
    "ExecuteTime": {
     "end_time": "2023-11-13T12:10:15.653650600Z",
     "start_time": "2023-11-13T12:10:15.620120500Z"
    }
   },
   "outputs": [],
   "source": [
    "#skalere vores koloner\n",
    "scaler = StandardScaler()\n",
    "columns_to_normalize = [\"DepTime\", \"ArrTime\", 'Distance']\n",
    "df[columns_to_normalize] = scaler.fit_transform(df[columns_to_normalize])"
   ]
  },
  {
   "cell_type": "code",
   "execution_count": 24,
   "metadata": {
    "ExecuteTime": {
     "end_time": "2023-11-13T12:10:15.746182800Z",
     "start_time": "2023-11-13T12:10:15.651641500Z"
    }
   },
   "outputs": [
    {
     "name": "stdout",
     "output_type": "stream",
     "text": [
      "Fjernet 1899 rækker.\n"
     ]
    }
   ],
   "source": [
    "# fjerner alle rækker med tomme felter\n",
    "rows_before = len(df)\n",
    "df.dropna(inplace=True)\n",
    "rows_after = len(df)\n",
    "rows_removed = rows_before - rows_after\n",
    "print(f\"Fjernet {rows_removed} rækker.\")"
   ]
  },
  {
   "cell_type": "code",
   "execution_count": 25,
   "metadata": {
    "ExecuteTime": {
     "end_time": "2023-11-13T12:10:15.790125600Z",
     "start_time": "2023-11-13T12:10:15.746182800Z"
    }
   },
   "outputs": [],
   "source": [
    "#fjerne DelayLabel fra df og gemmer dem som label\n",
    "label = df.pop(\"DelayLabel\")"
   ]
  },
  {
   "cell_type": "code",
   "execution_count": 26,
   "metadata": {
    "ExecuteTime": {
     "end_time": "2023-11-13T12:10:15.931577400Z",
     "start_time": "2023-11-13T12:10:15.761438500Z"
    }
   },
   "outputs": [],
   "source": [
    "#Laver et 80/20 split på vores data og labels\n",
    "train_x, test_x, train_y, test_y = train_test_split(df, label, stratify=label, test_size=0.20, random_state=1)"
   ]
  },
  {
   "cell_type": "code",
   "execution_count": 40,
   "metadata": {
    "ExecuteTime": {
     "end_time": "2023-11-13T13:16:14.459670100Z",
     "start_time": "2023-11-13T13:10:53.107753100Z"
    }
   },
   "outputs": [
    {
     "data": {
      "text/plain": "array([0.8084563 , 0.81171964, 0.81796254, 0.80434166, 0.79866629,\n       0.80448354, 0.81157775, 0.80590238, 0.81044268, 0.81171964])"
     },
     "execution_count": 40,
     "metadata": {},
     "output_type": "execute_result"
    }
   ],
   "source": [
    "#definere og fitter vores model\n",
    "dtc = RandomForestClassifier()\n",
    "model = dtc.fit(train_x, train_y)\n",
    "cross_val = cross_val_score(dtc, train_x, train_y, cv=10, scoring=\"f1_micro\")\n",
    "cross_val"
   ]
  },
  {
   "cell_type": "code",
   "execution_count": 28,
   "metadata": {
    "ExecuteTime": {
     "end_time": "2023-11-13T12:11:59.758221Z",
     "start_time": "2023-11-13T12:11:58.933219400Z"
    }
   },
   "outputs": [],
   "source": [
    "#forudsiger labels på vores test sæt\n",
    "predicted_values = dtc.predict(test_x)"
   ]
  },
  {
   "cell_type": "code",
   "execution_count": 29,
   "metadata": {
    "ExecuteTime": {
     "end_time": "2023-11-13T12:11:59.929952800Z",
     "start_time": "2023-11-13T12:11:59.757223500Z"
    }
   },
   "outputs": [],
   "source": [
    "#sammenligner vores test resultater og vores predicted_values\n",
    "acc = accuracy_score(test_y, predicted_values)\n",
    "conf_matrix = confusion_matrix(test_y, predicted_values)\n",
    "prec = precision_score(test_y, predicted_values, average='weighted')\n",
    "rec = recall_score(test_y, predicted_values, average='weighted')"
   ]
  },
  {
   "cell_type": "code",
   "execution_count": 30,
   "metadata": {
    "ExecuteTime": {
     "end_time": "2023-11-13T12:12:00.678770600Z",
     "start_time": "2023-11-13T12:11:59.929952800Z"
    }
   },
   "outputs": [
    {
     "name": "stdout",
     "output_type": "stream",
     "text": [
      "[[0.07 0.93 0.  ]\n",
      " [0.09 0.9  0.01]\n",
      " [0.02 0.98 0.  ]\n",
      " [0.18 0.82 0.  ]\n",
      " [0.01 0.99 0.  ]]\n"
     ]
    }
   ],
   "source": [
    "# Forudsige sandsynligheder for test-sættet\n",
    "predicted_probabilities = dtc.predict_proba(test_x)\n",
    "\n",
    "# Udskrive de forudsagte sandsynligheder for de første 5 test-eksempler\n",
    "print(predicted_probabilities[:5])"
   ]
  },
  {
   "cell_type": "code",
   "execution_count": 31,
   "metadata": {
    "ExecuteTime": {
     "end_time": "2023-11-13T12:12:00.722334600Z",
     "start_time": "2023-11-13T12:12:00.677772200Z"
    }
   },
   "outputs": [
    {
     "name": "stdout",
     "output_type": "stream",
     "text": [
      "Accuracy: 0.8156177288462629\n",
      "Precision: 0.80456083903111\n",
      "Recall: 0.8156177288462629\n",
      "Confusion Matrix:\n",
      "Labels: ['late' 'on-time' 'very-late']\n",
      "[[ 2306  2218    20]\n",
      " [  626 12004     6]\n",
      " [  237   142    62]]\n"
     ]
    }
   ],
   "source": [
    "print(f\"Accuracy: {acc}\")\n",
    "print(f\"Precision: {prec}\")\n",
    "print(f\"Recall: {rec}\")\n",
    "\n",
    "classes = model.classes_\n",
    "print(\"Confusion Matrix:\")\n",
    "print(f\"Labels: {classes}\")\n",
    "print(conf_matrix)"
   ]
  }
 ],
 "metadata": {
  "kernelspec": {
   "display_name": "Python 3",
   "language": "python",
   "name": "python3"
  },
  "language_info": {
   "codemirror_mode": {
    "name": "ipython",
    "version": 3
   },
   "file_extension": ".py",
   "mimetype": "text/x-python",
   "name": "python",
   "nbconvert_exporter": "python",
   "pygments_lexer": "ipython3",
   "version": "3.11.5"
  }
 },
 "nbformat": 4,
 "nbformat_minor": 2
}
